{
 "cells": [
  {
   "cell_type": "markdown",
   "metadata": {},
   "source": [
    "# Simple Moving Average\n",
    "\n",
    "Examples of working with the simple moving average calculation"
   ]
  },
  {
   "cell_type": "code",
   "execution_count": 1,
   "metadata": {},
   "outputs": [
    {
     "name": "stdout",
     "output_type": "stream",
     "text": [
      "File ‘sp500_close.csv’ already there; not retrieving.\r\n",
      "\r\n"
     ]
    }
   ],
   "source": [
    "# get the data\n",
    "!wget -nc https://lazyprogrammer.me/course_files/sp500_close.csv"
   ]
  },
  {
   "cell_type": "code",
   "execution_count": 2,
   "metadata": {},
   "outputs": [],
   "source": [
    "# imports\n",
    "import pandas as pd\n",
    "import matplotlib.pyplot as plt\n",
    "import numpy as np"
   ]
  },
  {
   "cell_type": "code",
   "execution_count": 3,
   "metadata": {},
   "outputs": [],
   "source": [
    "# read in the data\n",
    "close = pd.read_csv('sp500_close.csv', index_col=0, parse_dates=True)"
   ]
  },
  {
   "cell_type": "code",
   "execution_count": 4,
   "metadata": {},
   "outputs": [
    {
     "data": {
      "text/html": [
       "<div>\n",
       "<style scoped>\n",
       "    .dataframe tbody tr th:only-of-type {\n",
       "        vertical-align: middle;\n",
       "    }\n",
       "\n",
       "    .dataframe tbody tr th {\n",
       "        vertical-align: top;\n",
       "    }\n",
       "\n",
       "    .dataframe thead th {\n",
       "        text-align: right;\n",
       "    }\n",
       "</style>\n",
       "<table border=\"1\" class=\"dataframe\">\n",
       "  <thead>\n",
       "    <tr style=\"text-align: right;\">\n",
       "      <th></th>\n",
       "      <th>AAL</th>\n",
       "      <th>AAPL</th>\n",
       "      <th>AAP</th>\n",
       "      <th>ABBV</th>\n",
       "      <th>ABC</th>\n",
       "      <th>ABT</th>\n",
       "      <th>ACN</th>\n",
       "      <th>ADBE</th>\n",
       "      <th>ADI</th>\n",
       "      <th>ADM</th>\n",
       "      <th>...</th>\n",
       "      <th>XLNX</th>\n",
       "      <th>XL</th>\n",
       "      <th>XOM</th>\n",
       "      <th>XRAY</th>\n",
       "      <th>XRX</th>\n",
       "      <th>XYL</th>\n",
       "      <th>YUM</th>\n",
       "      <th>ZBH</th>\n",
       "      <th>ZION</th>\n",
       "      <th>ZTS</th>\n",
       "    </tr>\n",
       "  </thead>\n",
       "  <tbody>\n",
       "    <tr>\n",
       "      <th>2013-02-08</th>\n",
       "      <td>14.75</td>\n",
       "      <td>67.8542</td>\n",
       "      <td>78.90</td>\n",
       "      <td>36.25</td>\n",
       "      <td>46.89</td>\n",
       "      <td>34.41</td>\n",
       "      <td>73.31</td>\n",
       "      <td>39.12</td>\n",
       "      <td>45.70</td>\n",
       "      <td>30.22</td>\n",
       "      <td>...</td>\n",
       "      <td>37.51</td>\n",
       "      <td>28.24</td>\n",
       "      <td>88.61</td>\n",
       "      <td>42.87</td>\n",
       "      <td>31.84</td>\n",
       "      <td>27.09</td>\n",
       "      <td>65.30</td>\n",
       "      <td>75.85</td>\n",
       "      <td>24.14</td>\n",
       "      <td>33.05</td>\n",
       "    </tr>\n",
       "    <tr>\n",
       "      <th>2013-02-09</th>\n",
       "      <td>NaN</td>\n",
       "      <td>NaN</td>\n",
       "      <td>NaN</td>\n",
       "      <td>NaN</td>\n",
       "      <td>NaN</td>\n",
       "      <td>NaN</td>\n",
       "      <td>NaN</td>\n",
       "      <td>NaN</td>\n",
       "      <td>NaN</td>\n",
       "      <td>NaN</td>\n",
       "      <td>...</td>\n",
       "      <td>NaN</td>\n",
       "      <td>NaN</td>\n",
       "      <td>NaN</td>\n",
       "      <td>NaN</td>\n",
       "      <td>NaN</td>\n",
       "      <td>NaN</td>\n",
       "      <td>NaN</td>\n",
       "      <td>NaN</td>\n",
       "      <td>NaN</td>\n",
       "      <td>NaN</td>\n",
       "    </tr>\n",
       "    <tr>\n",
       "      <th>2013-02-10</th>\n",
       "      <td>NaN</td>\n",
       "      <td>NaN</td>\n",
       "      <td>NaN</td>\n",
       "      <td>NaN</td>\n",
       "      <td>NaN</td>\n",
       "      <td>NaN</td>\n",
       "      <td>NaN</td>\n",
       "      <td>NaN</td>\n",
       "      <td>NaN</td>\n",
       "      <td>NaN</td>\n",
       "      <td>...</td>\n",
       "      <td>NaN</td>\n",
       "      <td>NaN</td>\n",
       "      <td>NaN</td>\n",
       "      <td>NaN</td>\n",
       "      <td>NaN</td>\n",
       "      <td>NaN</td>\n",
       "      <td>NaN</td>\n",
       "      <td>NaN</td>\n",
       "      <td>NaN</td>\n",
       "      <td>NaN</td>\n",
       "    </tr>\n",
       "    <tr>\n",
       "      <th>2013-02-11</th>\n",
       "      <td>14.46</td>\n",
       "      <td>68.5614</td>\n",
       "      <td>78.39</td>\n",
       "      <td>35.85</td>\n",
       "      <td>46.76</td>\n",
       "      <td>34.26</td>\n",
       "      <td>73.07</td>\n",
       "      <td>38.64</td>\n",
       "      <td>46.08</td>\n",
       "      <td>30.28</td>\n",
       "      <td>...</td>\n",
       "      <td>37.46</td>\n",
       "      <td>28.31</td>\n",
       "      <td>88.28</td>\n",
       "      <td>42.84</td>\n",
       "      <td>31.96</td>\n",
       "      <td>27.46</td>\n",
       "      <td>64.55</td>\n",
       "      <td>75.65</td>\n",
       "      <td>24.21</td>\n",
       "      <td>33.26</td>\n",
       "    </tr>\n",
       "    <tr>\n",
       "      <th>2013-02-12</th>\n",
       "      <td>14.27</td>\n",
       "      <td>66.8428</td>\n",
       "      <td>78.60</td>\n",
       "      <td>35.42</td>\n",
       "      <td>46.96</td>\n",
       "      <td>34.30</td>\n",
       "      <td>73.37</td>\n",
       "      <td>38.89</td>\n",
       "      <td>46.27</td>\n",
       "      <td>30.81</td>\n",
       "      <td>...</td>\n",
       "      <td>37.58</td>\n",
       "      <td>28.41</td>\n",
       "      <td>88.46</td>\n",
       "      <td>42.87</td>\n",
       "      <td>31.84</td>\n",
       "      <td>27.95</td>\n",
       "      <td>64.75</td>\n",
       "      <td>75.44</td>\n",
       "      <td>24.49</td>\n",
       "      <td>33.74</td>\n",
       "    </tr>\n",
       "  </tbody>\n",
       "</table>\n",
       "<p>5 rows × 505 columns</p>\n",
       "</div>"
      ],
      "text/plain": [
       "              AAL     AAPL    AAP   ABBV    ABC    ABT    ACN   ADBE    ADI  \\\n",
       "2013-02-08  14.75  67.8542  78.90  36.25  46.89  34.41  73.31  39.12  45.70   \n",
       "2013-02-09    NaN      NaN    NaN    NaN    NaN    NaN    NaN    NaN    NaN   \n",
       "2013-02-10    NaN      NaN    NaN    NaN    NaN    NaN    NaN    NaN    NaN   \n",
       "2013-02-11  14.46  68.5614  78.39  35.85  46.76  34.26  73.07  38.64  46.08   \n",
       "2013-02-12  14.27  66.8428  78.60  35.42  46.96  34.30  73.37  38.89  46.27   \n",
       "\n",
       "              ADM  ...   XLNX     XL    XOM   XRAY    XRX    XYL    YUM  \\\n",
       "2013-02-08  30.22  ...  37.51  28.24  88.61  42.87  31.84  27.09  65.30   \n",
       "2013-02-09    NaN  ...    NaN    NaN    NaN    NaN    NaN    NaN    NaN   \n",
       "2013-02-10    NaN  ...    NaN    NaN    NaN    NaN    NaN    NaN    NaN   \n",
       "2013-02-11  30.28  ...  37.46  28.31  88.28  42.84  31.96  27.46  64.55   \n",
       "2013-02-12  30.81  ...  37.58  28.41  88.46  42.87  31.84  27.95  64.75   \n",
       "\n",
       "              ZBH   ZION    ZTS  \n",
       "2013-02-08  75.85  24.14  33.05  \n",
       "2013-02-09    NaN    NaN    NaN  \n",
       "2013-02-10    NaN    NaN    NaN  \n",
       "2013-02-11  75.65  24.21  33.26  \n",
       "2013-02-12  75.44  24.49  33.74  \n",
       "\n",
       "[5 rows x 505 columns]"
      ]
     },
     "execution_count": 4,
     "metadata": {},
     "output_type": "execute_result"
    }
   ],
   "source": [
    "close.head()"
   ]
  },
  {
   "cell_type": "code",
   "execution_count": 5,
   "metadata": {},
   "outputs": [],
   "source": [
    "# let's use the google data\n",
    "goog = close[['GOOG']].copy().dropna()"
   ]
  },
  {
   "cell_type": "code",
   "execution_count": 6,
   "metadata": {},
   "outputs": [
    {
     "data": {
      "text/html": [
       "<div>\n",
       "<style scoped>\n",
       "    .dataframe tbody tr th:only-of-type {\n",
       "        vertical-align: middle;\n",
       "    }\n",
       "\n",
       "    .dataframe tbody tr th {\n",
       "        vertical-align: top;\n",
       "    }\n",
       "\n",
       "    .dataframe thead th {\n",
       "        text-align: right;\n",
       "    }\n",
       "</style>\n",
       "<table border=\"1\" class=\"dataframe\">\n",
       "  <thead>\n",
       "    <tr style=\"text-align: right;\">\n",
       "      <th></th>\n",
       "      <th>GOOG</th>\n",
       "    </tr>\n",
       "  </thead>\n",
       "  <tbody>\n",
       "    <tr>\n",
       "      <th>2014-03-27</th>\n",
       "      <td>558.46</td>\n",
       "    </tr>\n",
       "    <tr>\n",
       "      <th>2014-03-28</th>\n",
       "      <td>559.99</td>\n",
       "    </tr>\n",
       "    <tr>\n",
       "      <th>2014-03-31</th>\n",
       "      <td>556.97</td>\n",
       "    </tr>\n",
       "    <tr>\n",
       "      <th>2014-04-01</th>\n",
       "      <td>567.16</td>\n",
       "    </tr>\n",
       "    <tr>\n",
       "      <th>2014-04-02</th>\n",
       "      <td>567.00</td>\n",
       "    </tr>\n",
       "  </tbody>\n",
       "</table>\n",
       "</div>"
      ],
      "text/plain": [
       "              GOOG\n",
       "2014-03-27  558.46\n",
       "2014-03-28  559.99\n",
       "2014-03-31  556.97\n",
       "2014-04-01  567.16\n",
       "2014-04-02  567.00"
      ]
     },
     "execution_count": 6,
     "metadata": {},
     "output_type": "execute_result"
    }
   ],
   "source": [
    "goog.head()"
   ]
  },
  {
   "cell_type": "code",
   "execution_count": 7,
   "metadata": {},
   "outputs": [
    {
     "data": {
      "image/png": "[encoded data removed]",
      "text/plain": [
       "<Figure size 432x288 with 1 Axes>"
      ]
     },
     "metadata": {
      "needs_background": "light"
     },
     "output_type": "display_data"
    }
   ],
   "source": [
    "goog.plot();"
   ]
  },
  {
   "cell_type": "code",
   "execution_count": 8,
   "metadata": {},
   "outputs": [],
   "source": [
    "# calc the log returns for google\n",
    "goog_ret = np.log(goog.pct_change(1) + 1)"
   ]
  },
  {
   "cell_type": "code",
   "execution_count": 9,
   "metadata": {},
   "outputs": [
    {
     "data": {
      "image/png": "[encoded data removed]",
      "text/plain": [
       "<Figure size 432x288 with 1 Axes>"
      ]
     },
     "metadata": {
      "needs_background": "light"
     },
     "output_type": "display_data"
    }
   ],
   "source": [
    "goog_ret.plot();"
   ]
  },
  {
   "cell_type": "code",
   "execution_count": 10,
   "metadata": {},
   "outputs": [
    {
     "data": {
      "text/html": [
       "<div>\n",
       "<style scoped>\n",
       "    .dataframe tbody tr th:only-of-type {\n",
       "        vertical-align: middle;\n",
       "    }\n",
       "\n",
       "    .dataframe tbody tr th {\n",
       "        vertical-align: top;\n",
       "    }\n",
       "\n",
       "    .dataframe thead th {\n",
       "        text-align: right;\n",
       "    }\n",
       "</style>\n",
       "<table border=\"1\" class=\"dataframe\">\n",
       "  <thead>\n",
       "    <tr style=\"text-align: right;\">\n",
       "      <th></th>\n",
       "      <th>GOOG</th>\n",
       "      <th>SMA-10</th>\n",
       "    </tr>\n",
       "  </thead>\n",
       "  <tbody>\n",
       "    <tr>\n",
       "      <th>2014-03-27</th>\n",
       "      <td>558.46</td>\n",
       "      <td>NaN</td>\n",
       "    </tr>\n",
       "    <tr>\n",
       "      <th>2014-03-28</th>\n",
       "      <td>559.99</td>\n",
       "      <td>NaN</td>\n",
       "    </tr>\n",
       "    <tr>\n",
       "      <th>2014-03-31</th>\n",
       "      <td>556.97</td>\n",
       "      <td>NaN</td>\n",
       "    </tr>\n",
       "    <tr>\n",
       "      <th>2014-04-01</th>\n",
       "      <td>567.16</td>\n",
       "      <td>NaN</td>\n",
       "    </tr>\n",
       "    <tr>\n",
       "      <th>2014-04-02</th>\n",
       "      <td>567.00</td>\n",
       "      <td>NaN</td>\n",
       "    </tr>\n",
       "    <tr>\n",
       "      <th>2014-04-03</th>\n",
       "      <td>569.74</td>\n",
       "      <td>NaN</td>\n",
       "    </tr>\n",
       "    <tr>\n",
       "      <th>2014-04-04</th>\n",
       "      <td>543.14</td>\n",
       "      <td>NaN</td>\n",
       "    </tr>\n",
       "    <tr>\n",
       "      <th>2014-04-07</th>\n",
       "      <td>538.15</td>\n",
       "      <td>NaN</td>\n",
       "    </tr>\n",
       "    <tr>\n",
       "      <th>2014-04-08</th>\n",
       "      <td>554.90</td>\n",
       "      <td>NaN</td>\n",
       "    </tr>\n",
       "    <tr>\n",
       "      <th>2014-04-09</th>\n",
       "      <td>564.14</td>\n",
       "      <td>557.965</td>\n",
       "    </tr>\n",
       "    <tr>\n",
       "      <th>2014-04-10</th>\n",
       "      <td>540.95</td>\n",
       "      <td>556.214</td>\n",
       "    </tr>\n",
       "    <tr>\n",
       "      <th>2014-04-11</th>\n",
       "      <td>530.60</td>\n",
       "      <td>553.275</td>\n",
       "    </tr>\n",
       "    <tr>\n",
       "      <th>2014-04-14</th>\n",
       "      <td>532.52</td>\n",
       "      <td>550.830</td>\n",
       "    </tr>\n",
       "    <tr>\n",
       "      <th>2014-04-15</th>\n",
       "      <td>536.44</td>\n",
       "      <td>547.758</td>\n",
       "    </tr>\n",
       "    <tr>\n",
       "      <th>2014-04-16</th>\n",
       "      <td>556.54</td>\n",
       "      <td>546.712</td>\n",
       "    </tr>\n",
       "    <tr>\n",
       "      <th>2014-04-17</th>\n",
       "      <td>536.10</td>\n",
       "      <td>543.348</td>\n",
       "    </tr>\n",
       "    <tr>\n",
       "      <th>2014-04-21</th>\n",
       "      <td>528.62</td>\n",
       "      <td>541.896</td>\n",
       "    </tr>\n",
       "    <tr>\n",
       "      <th>2014-04-22</th>\n",
       "      <td>534.81</td>\n",
       "      <td>541.562</td>\n",
       "    </tr>\n",
       "    <tr>\n",
       "      <th>2014-04-23</th>\n",
       "      <td>526.94</td>\n",
       "      <td>538.766</td>\n",
       "    </tr>\n",
       "    <tr>\n",
       "      <th>2014-04-24</th>\n",
       "      <td>525.16</td>\n",
       "      <td>534.868</td>\n",
       "    </tr>\n",
       "  </tbody>\n",
       "</table>\n",
       "</div>"
      ],
      "text/plain": [
       "              GOOG   SMA-10\n",
       "2014-03-27  558.46      NaN\n",
       "2014-03-28  559.99      NaN\n",
       "2014-03-31  556.97      NaN\n",
       "2014-04-01  567.16      NaN\n",
       "2014-04-02  567.00      NaN\n",
       "2014-04-03  569.74      NaN\n",
       "2014-04-04  543.14      NaN\n",
       "2014-04-07  538.15      NaN\n",
       "2014-04-08  554.90      NaN\n",
       "2014-04-09  564.14  557.965\n",
       "2014-04-10  540.95  556.214\n",
       "2014-04-11  530.60  553.275\n",
       "2014-04-14  532.52  550.830\n",
       "2014-04-15  536.44  547.758\n",
       "2014-04-16  556.54  546.712\n",
       "2014-04-17  536.10  543.348\n",
       "2014-04-21  528.62  541.896\n",
       "2014-04-22  534.81  541.562\n",
       "2014-04-23  526.94  538.766\n",
       "2014-04-24  525.16  534.868"
      ]
     },
     "execution_count": 10,
     "metadata": {},
     "output_type": "execute_result"
    }
   ],
   "source": [
    "# calc the simple moving average using rolling and using a window size of 10\n",
    "goog['SMA-10'] = goog['GOOG'].rolling(10).mean()\n",
    "goog.head(20)"
   ]
  },
  {
   "cell_type": "markdown",
   "metadata": {},
   "source": [
    "Note that the first 9 values are `NaN`."
   ]
  },
  {
   "cell_type": "code",
   "execution_count": 11,
   "metadata": {},
   "outputs": [
    {
     "data": {
      "text/plain": [
       "pandas.core.window.rolling.Rolling"
      ]
     },
     "execution_count": 11,
     "metadata": {},
     "output_type": "execute_result"
    }
   ],
   "source": [
    "# look at what is returned by rolling\n",
    "type(goog['GOOG'].rolling(10))"
   ]
  },
  {
   "cell_type": "code",
   "execution_count": 12,
   "metadata": {},
   "outputs": [
    {
     "data": {
      "image/png": "[encoded data removed]",
      "text/plain": [
       "<Figure size 720x360 with 1 Axes>"
      ]
     },
     "metadata": {
      "needs_background": "light"
     },
     "output_type": "display_data"
    }
   ],
   "source": [
    "# replot and add simple moving average\n",
    "goog.plot(figsize=(10,5));"
   ]
  },
  {
   "cell_type": "code",
   "execution_count": 13,
   "metadata": {},
   "outputs": [],
   "source": [
    "# calc again with a different window size\n",
    "goog['SMA-50'] = goog['GOOG'].rolling(50).mean()"
   ]
  },
  {
   "cell_type": "code",
   "execution_count": 14,
   "metadata": {},
   "outputs": [
    {
     "data": {
      "image/png": "[encoded data removed]",
      "text/plain": [
       "<Figure size 720x360 with 1 Axes>"
      ]
     },
     "metadata": {
      "needs_background": "light"
     },
     "output_type": "display_data"
    }
   ],
   "source": [
    "goog.plot(figsize=(10,5));"
   ]
  },
  {
   "cell_type": "markdown",
   "metadata": {},
   "source": [
    "The more values used in the window, the smoother the curves. However, the lagging of the smoothed series becomes more pronounced the larger the window."
   ]
  },
  {
   "cell_type": "markdown",
   "metadata": {},
   "source": [
    "## Multivariate examples"
   ]
  },
  {
   "cell_type": "code",
   "execution_count": 15,
   "metadata": {},
   "outputs": [
    {
     "data": {
      "text/html": [
       "<div>\n",
       "<style scoped>\n",
       "    .dataframe tbody tr th:only-of-type {\n",
       "        vertical-align: middle;\n",
       "    }\n",
       "\n",
       "    .dataframe tbody tr th {\n",
       "        vertical-align: top;\n",
       "    }\n",
       "\n",
       "    .dataframe thead th {\n",
       "        text-align: right;\n",
       "    }\n",
       "</style>\n",
       "<table border=\"1\" class=\"dataframe\">\n",
       "  <thead>\n",
       "    <tr style=\"text-align: right;\">\n",
       "      <th></th>\n",
       "      <th></th>\n",
       "      <th>GOOG</th>\n",
       "      <th>AAPL</th>\n",
       "    </tr>\n",
       "  </thead>\n",
       "  <tbody>\n",
       "    <tr>\n",
       "      <th rowspan=\"2\" valign=\"top\">2014-03-27</th>\n",
       "      <th>GOOG</th>\n",
       "      <td>NaN</td>\n",
       "      <td>NaN</td>\n",
       "    </tr>\n",
       "    <tr>\n",
       "      <th>AAPL</th>\n",
       "      <td>NaN</td>\n",
       "      <td>NaN</td>\n",
       "    </tr>\n",
       "    <tr>\n",
       "      <th rowspan=\"2\" valign=\"top\">2014-03-28</th>\n",
       "      <th>GOOG</th>\n",
       "      <td>NaN</td>\n",
       "      <td>NaN</td>\n",
       "    </tr>\n",
       "    <tr>\n",
       "      <th>AAPL</th>\n",
       "      <td>NaN</td>\n",
       "      <td>NaN</td>\n",
       "    </tr>\n",
       "    <tr>\n",
       "      <th>2014-03-31</th>\n",
       "      <th>GOOG</th>\n",
       "      <td>NaN</td>\n",
       "      <td>NaN</td>\n",
       "    </tr>\n",
       "    <tr>\n",
       "      <th>...</th>\n",
       "      <th>...</th>\n",
       "      <td>...</td>\n",
       "      <td>...</td>\n",
       "    </tr>\n",
       "    <tr>\n",
       "      <th>2018-02-05</th>\n",
       "      <th>AAPL</th>\n",
       "      <td>34.825709</td>\n",
       "      <td>17.568865</td>\n",
       "    </tr>\n",
       "    <tr>\n",
       "      <th rowspan=\"2\" valign=\"top\">2018-02-06</th>\n",
       "      <th>GOOG</th>\n",
       "      <td>2691.756465</td>\n",
       "      <td>38.174468</td>\n",
       "    </tr>\n",
       "    <tr>\n",
       "      <th>AAPL</th>\n",
       "      <td>38.174468</td>\n",
       "      <td>19.121371</td>\n",
       "    </tr>\n",
       "    <tr>\n",
       "      <th rowspan=\"2\" valign=\"top\">2018-02-07</th>\n",
       "      <th>GOOG</th>\n",
       "      <td>2678.778214</td>\n",
       "      <td>49.980378</td>\n",
       "    </tr>\n",
       "    <tr>\n",
       "      <th>AAPL</th>\n",
       "      <td>49.980378</td>\n",
       "      <td>22.052882</td>\n",
       "    </tr>\n",
       "  </tbody>\n",
       "</table>\n",
       "<p>1950 rows × 2 columns</p>\n",
       "</div>"
      ],
      "text/plain": [
       "                        GOOG       AAPL\n",
       "2014-03-27 GOOG          NaN        NaN\n",
       "           AAPL          NaN        NaN\n",
       "2014-03-28 GOOG          NaN        NaN\n",
       "           AAPL          NaN        NaN\n",
       "2014-03-31 GOOG          NaN        NaN\n",
       "...                      ...        ...\n",
       "2018-02-05 AAPL    34.825709  17.568865\n",
       "2018-02-06 GOOG  2691.756465  38.174468\n",
       "           AAPL    38.174468  19.121371\n",
       "2018-02-07 GOOG  2678.778214  49.980378\n",
       "           AAPL    49.980378  22.052882\n",
       "\n",
       "[1950 rows x 2 columns]"
      ]
     },
     "execution_count": 15,
     "metadata": {},
     "output_type": "execute_result"
    }
   ],
   "source": [
    "# get dataframe of google and apple\n",
    "goog_aapl = close[['GOOG', 'AAPL']].copy().dropna()\n",
    "# calc covariances\n",
    "cov = goog_aapl.rolling(50).cov()\n",
    "cov"
   ]
  },
  {
   "cell_type": "code",
   "execution_count": 16,
   "metadata": {},
   "outputs": [
    {
     "data": {
      "text/plain": [
       "array([[2678.77821424,   49.98037849],\n",
       "       [  49.98037849,   22.05288249]])"
      ]
     },
     "execution_count": 16,
     "metadata": {},
     "output_type": "execute_result"
    }
   ],
   "source": [
    "# get a single covariance matrix\n",
    "cov.loc['2018-02-07'].to_numpy()"
   ]
  },
  {
   "cell_type": "code",
   "execution_count": 17,
   "metadata": {},
   "outputs": [
    {
     "data": {
      "text/html": [
       "<div>\n",
       "<style scoped>\n",
       "    .dataframe tbody tr th:only-of-type {\n",
       "        vertical-align: middle;\n",
       "    }\n",
       "\n",
       "    .dataframe tbody tr th {\n",
       "        vertical-align: top;\n",
       "    }\n",
       "\n",
       "    .dataframe thead th {\n",
       "        text-align: right;\n",
       "    }\n",
       "</style>\n",
       "<table border=\"1\" class=\"dataframe\">\n",
       "  <thead>\n",
       "    <tr style=\"text-align: right;\">\n",
       "      <th></th>\n",
       "      <th>GOOG</th>\n",
       "      <th>AAPL</th>\n",
       "    </tr>\n",
       "  </thead>\n",
       "  <tbody>\n",
       "    <tr>\n",
       "      <th>2014-03-27</th>\n",
       "      <td>NaN</td>\n",
       "      <td>NaN</td>\n",
       "    </tr>\n",
       "    <tr>\n",
       "      <th>2014-03-28</th>\n",
       "      <td>0.002736</td>\n",
       "      <td>-0.001117</td>\n",
       "    </tr>\n",
       "    <tr>\n",
       "      <th>2014-03-31</th>\n",
       "      <td>-0.005408</td>\n",
       "      <td>-0.000223</td>\n",
       "    </tr>\n",
       "    <tr>\n",
       "      <th>2014-04-01</th>\n",
       "      <td>0.018130</td>\n",
       "      <td>0.009106</td>\n",
       "    </tr>\n",
       "    <tr>\n",
       "      <th>2014-04-02</th>\n",
       "      <td>-0.000282</td>\n",
       "      <td>0.001661</td>\n",
       "    </tr>\n",
       "  </tbody>\n",
       "</table>\n",
       "</div>"
      ],
      "text/plain": [
       "                GOOG      AAPL\n",
       "2014-03-27       NaN       NaN\n",
       "2014-03-28  0.002736 -0.001117\n",
       "2014-03-31 -0.005408 -0.000223\n",
       "2014-04-01  0.018130  0.009106\n",
       "2014-04-02 -0.000282  0.001661"
      ]
     },
     "execution_count": 17,
     "metadata": {},
     "output_type": "execute_result"
    }
   ],
   "source": [
    "# calc returns\n",
    "goog_aapl_ret = np.log(1 + goog_aapl.pct_change(1))\n",
    "goog_aapl_ret.head()"
   ]
  },
  {
   "cell_type": "code",
   "execution_count": 18,
   "metadata": {},
   "outputs": [],
   "source": [
    "# calc simple moving averages\n",
    "goog_aapl_ret['GOOG-SMA-50'] = goog_aapl_ret['GOOG'].rolling(50).mean()\n",
    "goog_aapl_ret['AAPL-SMA-50'] = goog_aapl_ret['AAPL'].rolling(50).mean()"
   ]
  },
  {
   "cell_type": "code",
   "execution_count": 19,
   "metadata": {},
   "outputs": [
    {
     "data": {
      "image/png": "[encoded data removed]",
      "text/plain": [
       "<Figure size 720x360 with 1 Axes>"
      ]
     },
     "metadata": {
      "needs_background": "light"
     },
     "output_type": "display_data"
    }
   ],
   "source": [
    "goog_aapl_ret.plot(figsize=(10,5));"
   ]
  },
  {
   "cell_type": "code",
   "execution_count": 20,
   "metadata": {},
   "outputs": [
    {
     "data": {
      "text/html": [
       "<div>\n",
       "<style scoped>\n",
       "    .dataframe tbody tr th:only-of-type {\n",
       "        vertical-align: middle;\n",
       "    }\n",
       "\n",
       "    .dataframe tbody tr th {\n",
       "        vertical-align: top;\n",
       "    }\n",
       "\n",
       "    .dataframe thead th {\n",
       "        text-align: right;\n",
       "    }\n",
       "</style>\n",
       "<table border=\"1\" class=\"dataframe\">\n",
       "  <thead>\n",
       "    <tr style=\"text-align: right;\">\n",
       "      <th></th>\n",
       "      <th></th>\n",
       "      <th>GOOG-SMA-50</th>\n",
       "      <th>AAPL-SMA-50</th>\n",
       "    </tr>\n",
       "  </thead>\n",
       "  <tbody>\n",
       "    <tr>\n",
       "      <th>2018-02-05</th>\n",
       "      <th>AAPL-SMA-50</th>\n",
       "      <td>-7.715772e-08</td>\n",
       "      <td>1.188405e-06</td>\n",
       "    </tr>\n",
       "    <tr>\n",
       "      <th rowspan=\"2\" valign=\"top\">2018-02-06</th>\n",
       "      <th>GOOG-SMA-50</th>\n",
       "      <td>2.852362e-07</td>\n",
       "      <td>-1.882949e-08</td>\n",
       "    </tr>\n",
       "    <tr>\n",
       "      <th>AAPL-SMA-50</th>\n",
       "      <td>-1.882949e-08</td>\n",
       "      <td>1.329746e-06</td>\n",
       "    </tr>\n",
       "    <tr>\n",
       "      <th rowspan=\"2\" valign=\"top\">2018-02-07</th>\n",
       "      <th>GOOG-SMA-50</th>\n",
       "      <td>3.430702e-07</td>\n",
       "      <td>8.238184e-08</td>\n",
       "    </tr>\n",
       "    <tr>\n",
       "      <th>AAPL-SMA-50</th>\n",
       "      <td>8.238184e-08</td>\n",
       "      <td>1.506869e-06</td>\n",
       "    </tr>\n",
       "  </tbody>\n",
       "</table>\n",
       "</div>"
      ],
      "text/plain": [
       "                         GOOG-SMA-50   AAPL-SMA-50\n",
       "2018-02-05 AAPL-SMA-50 -7.715772e-08  1.188405e-06\n",
       "2018-02-06 GOOG-SMA-50  2.852362e-07 -1.882949e-08\n",
       "           AAPL-SMA-50 -1.882949e-08  1.329746e-06\n",
       "2018-02-07 GOOG-SMA-50  3.430702e-07  8.238184e-08\n",
       "           AAPL-SMA-50  8.238184e-08  1.506869e-06"
      ]
     },
     "execution_count": 20,
     "metadata": {},
     "output_type": "execute_result"
    }
   ],
   "source": [
    "# calc covariances\n",
    "cov = goog_aapl_ret[['GOOG-SMA-50', 'AAPL-SMA-50']].rolling(50).cov()\n",
    "cov.tail()"
   ]
  },
  {
   "cell_type": "code",
   "execution_count": 21,
   "metadata": {},
   "outputs": [
    {
     "data": {
      "text/html": [
       "<div>\n",
       "<style scoped>\n",
       "    .dataframe tbody tr th:only-of-type {\n",
       "        vertical-align: middle;\n",
       "    }\n",
       "\n",
       "    .dataframe tbody tr th {\n",
       "        vertical-align: top;\n",
       "    }\n",
       "\n",
       "    .dataframe thead th {\n",
       "        text-align: right;\n",
       "    }\n",
       "</style>\n",
       "<table border=\"1\" class=\"dataframe\">\n",
       "  <thead>\n",
       "    <tr style=\"text-align: right;\">\n",
       "      <th></th>\n",
       "      <th></th>\n",
       "      <th>GOOG-SMA-50</th>\n",
       "      <th>AAPL-SMA-50</th>\n",
       "    </tr>\n",
       "  </thead>\n",
       "  <tbody>\n",
       "    <tr>\n",
       "      <th rowspan=\"2\" valign=\"top\">2018-01-29</th>\n",
       "      <th>GOOG-SMA-50</th>\n",
       "      <td>1.000000</td>\n",
       "      <td>-0.353417</td>\n",
       "    </tr>\n",
       "    <tr>\n",
       "      <th>AAPL-SMA-50</th>\n",
       "      <td>-0.353417</td>\n",
       "      <td>1.000000</td>\n",
       "    </tr>\n",
       "    <tr>\n",
       "      <th rowspan=\"2\" valign=\"top\">2018-01-30</th>\n",
       "      <th>GOOG-SMA-50</th>\n",
       "      <td>1.000000</td>\n",
       "      <td>-0.397767</td>\n",
       "    </tr>\n",
       "    <tr>\n",
       "      <th>AAPL-SMA-50</th>\n",
       "      <td>-0.397767</td>\n",
       "      <td>1.000000</td>\n",
       "    </tr>\n",
       "    <tr>\n",
       "      <th rowspan=\"2\" valign=\"top\">2018-01-31</th>\n",
       "      <th>GOOG-SMA-50</th>\n",
       "      <td>1.000000</td>\n",
       "      <td>-0.426551</td>\n",
       "    </tr>\n",
       "    <tr>\n",
       "      <th>AAPL-SMA-50</th>\n",
       "      <td>-0.426551</td>\n",
       "      <td>1.000000</td>\n",
       "    </tr>\n",
       "    <tr>\n",
       "      <th rowspan=\"2\" valign=\"top\">2018-02-01</th>\n",
       "      <th>GOOG-SMA-50</th>\n",
       "      <td>1.000000</td>\n",
       "      <td>-0.462629</td>\n",
       "    </tr>\n",
       "    <tr>\n",
       "      <th>AAPL-SMA-50</th>\n",
       "      <td>-0.462629</td>\n",
       "      <td>1.000000</td>\n",
       "    </tr>\n",
       "    <tr>\n",
       "      <th rowspan=\"2\" valign=\"top\">2018-02-02</th>\n",
       "      <th>GOOG-SMA-50</th>\n",
       "      <td>1.000000</td>\n",
       "      <td>-0.406629</td>\n",
       "    </tr>\n",
       "    <tr>\n",
       "      <th>AAPL-SMA-50</th>\n",
       "      <td>-0.406629</td>\n",
       "      <td>1.000000</td>\n",
       "    </tr>\n",
       "    <tr>\n",
       "      <th rowspan=\"2\" valign=\"top\">2018-02-05</th>\n",
       "      <th>GOOG-SMA-50</th>\n",
       "      <td>1.000000</td>\n",
       "      <td>-0.138433</td>\n",
       "    </tr>\n",
       "    <tr>\n",
       "      <th>AAPL-SMA-50</th>\n",
       "      <td>-0.138433</td>\n",
       "      <td>1.000000</td>\n",
       "    </tr>\n",
       "    <tr>\n",
       "      <th rowspan=\"2\" valign=\"top\">2018-02-06</th>\n",
       "      <th>GOOG-SMA-50</th>\n",
       "      <td>1.000000</td>\n",
       "      <td>-0.030574</td>\n",
       "    </tr>\n",
       "    <tr>\n",
       "      <th>AAPL-SMA-50</th>\n",
       "      <td>-0.030574</td>\n",
       "      <td>1.000000</td>\n",
       "    </tr>\n",
       "    <tr>\n",
       "      <th rowspan=\"2\" valign=\"top\">2018-02-07</th>\n",
       "      <th>GOOG-SMA-50</th>\n",
       "      <td>1.000000</td>\n",
       "      <td>0.114578</td>\n",
       "    </tr>\n",
       "    <tr>\n",
       "      <th>AAPL-SMA-50</th>\n",
       "      <td>0.114578</td>\n",
       "      <td>1.000000</td>\n",
       "    </tr>\n",
       "  </tbody>\n",
       "</table>\n",
       "</div>"
      ],
      "text/plain": [
       "                        GOOG-SMA-50  AAPL-SMA-50\n",
       "2018-01-29 GOOG-SMA-50     1.000000    -0.353417\n",
       "           AAPL-SMA-50    -0.353417     1.000000\n",
       "2018-01-30 GOOG-SMA-50     1.000000    -0.397767\n",
       "           AAPL-SMA-50    -0.397767     1.000000\n",
       "2018-01-31 GOOG-SMA-50     1.000000    -0.426551\n",
       "           AAPL-SMA-50    -0.426551     1.000000\n",
       "2018-02-01 GOOG-SMA-50     1.000000    -0.462629\n",
       "           AAPL-SMA-50    -0.462629     1.000000\n",
       "2018-02-02 GOOG-SMA-50     1.000000    -0.406629\n",
       "           AAPL-SMA-50    -0.406629     1.000000\n",
       "2018-02-05 GOOG-SMA-50     1.000000    -0.138433\n",
       "           AAPL-SMA-50    -0.138433     1.000000\n",
       "2018-02-06 GOOG-SMA-50     1.000000    -0.030574\n",
       "           AAPL-SMA-50    -0.030574     1.000000\n",
       "2018-02-07 GOOG-SMA-50     1.000000     0.114578\n",
       "           AAPL-SMA-50     0.114578     1.000000"
      ]
     },
     "execution_count": 21,
     "metadata": {},
     "output_type": "execute_result"
    }
   ],
   "source": [
    "# calc correlations\n",
    "corr = goog_aapl_ret[['GOOG-SMA-50', 'AAPL-SMA-50']].rolling(50).corr()\n",
    "corr.tail(16)"
   ]
  },
  {
   "cell_type": "code",
   "execution_count": null,
   "metadata": {},
   "outputs": [],
   "source": []
  }
 ],
 "metadata": {
  "kernelspec": {
   "display_name": "fineng",
   "language": "python",
   "name": "fineng"
  },
  "language_info": {
   "codemirror_mode": {
    "name": "ipython",
    "version": 3
   },
   "file_extension": ".py",
   "mimetype": "text/x-python",
   "name": "python",
   "nbconvert_exporter": "python",
   "pygments_lexer": "ipython3",
   "version": "3.8.10"
  }
 },
 "nbformat": 4,
 "nbformat_minor": 4
}
